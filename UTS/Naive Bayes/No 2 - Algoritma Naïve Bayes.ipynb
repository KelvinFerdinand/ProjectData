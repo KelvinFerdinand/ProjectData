{
 "cells": [
  {
   "cell_type": "markdown",
   "id": "d030a223",
   "metadata": {},
   "source": [
    "# Algoritma Naïve Bayes"
   ]
  },
  {
   "cell_type": "markdown",
   "id": "78f36e49",
   "metadata": {},
   "source": [
    "# ANGGOTA KELOMPOK\n",
    "- Fenny Jong (535210001)\n",
    "- Kelvin Ferdinand (535210027)\n",
    "- Jefri Jaya (535210048) "
   ]
  },
  {
   "cell_type": "markdown",
   "id": "6a13cb8b",
   "metadata": {},
   "source": [
    "# Load Dataset"
   ]
  },
  {
   "cell_type": "code",
   "execution_count": 1,
   "id": "81219a6b",
   "metadata": {
    "scrolled": true
   },
   "outputs": [
    {
     "data": {
      "text/html": [
       "<div>\n",
       "<style scoped>\n",
       "    .dataframe tbody tr th:only-of-type {\n",
       "        vertical-align: middle;\n",
       "    }\n",
       "\n",
       "    .dataframe tbody tr th {\n",
       "        vertical-align: top;\n",
       "    }\n",
       "\n",
       "    .dataframe thead th {\n",
       "        text-align: right;\n",
       "    }\n",
       "</style>\n",
       "<table border=\"1\" class=\"dataframe\">\n",
       "  <thead>\n",
       "    <tr style=\"text-align: right;\">\n",
       "      <th></th>\n",
       "      <th>No</th>\n",
       "      <th>Jenis Kelamin</th>\n",
       "      <th>Status Mahasiswa</th>\n",
       "      <th>Status Pernikahan</th>\n",
       "      <th>IPK Semester 1-6</th>\n",
       "      <th>Status Kelulusan</th>\n",
       "    </tr>\n",
       "  </thead>\n",
       "  <tbody>\n",
       "    <tr>\n",
       "      <th>0</th>\n",
       "      <td>1</td>\n",
       "      <td>Laki-laki</td>\n",
       "      <td>Mahasiswa</td>\n",
       "      <td>Belum</td>\n",
       "      <td>3.17</td>\n",
       "      <td>Tepat</td>\n",
       "    </tr>\n",
       "    <tr>\n",
       "      <th>1</th>\n",
       "      <td>2</td>\n",
       "      <td>Laki-laki</td>\n",
       "      <td>Bekerja</td>\n",
       "      <td>Belum</td>\n",
       "      <td>3.30</td>\n",
       "      <td>Tepat</td>\n",
       "    </tr>\n",
       "    <tr>\n",
       "      <th>2</th>\n",
       "      <td>3</td>\n",
       "      <td>Perempuan</td>\n",
       "      <td>Mahasiswa</td>\n",
       "      <td>Belum</td>\n",
       "      <td>3.01</td>\n",
       "      <td>Tepat</td>\n",
       "    </tr>\n",
       "    <tr>\n",
       "      <th>3</th>\n",
       "      <td>4</td>\n",
       "      <td>Perempuan</td>\n",
       "      <td>Mahasiswa</td>\n",
       "      <td>Menikah</td>\n",
       "      <td>3.25</td>\n",
       "      <td>Tepat</td>\n",
       "    </tr>\n",
       "    <tr>\n",
       "      <th>4</th>\n",
       "      <td>5</td>\n",
       "      <td>Laki-laki</td>\n",
       "      <td>Bekerja</td>\n",
       "      <td>Menikah</td>\n",
       "      <td>3.20</td>\n",
       "      <td>Tepat</td>\n",
       "    </tr>\n",
       "    <tr>\n",
       "      <th>5</th>\n",
       "      <td>6</td>\n",
       "      <td>Laki-laki</td>\n",
       "      <td>Bekerja</td>\n",
       "      <td>Menikah</td>\n",
       "      <td>2.50</td>\n",
       "      <td>Terlambat</td>\n",
       "    </tr>\n",
       "    <tr>\n",
       "      <th>6</th>\n",
       "      <td>7</td>\n",
       "      <td>Perempuan</td>\n",
       "      <td>Bekerja</td>\n",
       "      <td>Menikah</td>\n",
       "      <td>3.00</td>\n",
       "      <td>Terlambat</td>\n",
       "    </tr>\n",
       "    <tr>\n",
       "      <th>7</th>\n",
       "      <td>8</td>\n",
       "      <td>Perempuan</td>\n",
       "      <td>Bekerja</td>\n",
       "      <td>Belum</td>\n",
       "      <td>2.70</td>\n",
       "      <td>Terlambat</td>\n",
       "    </tr>\n",
       "    <tr>\n",
       "      <th>8</th>\n",
       "      <td>9</td>\n",
       "      <td>Laki-laki</td>\n",
       "      <td>Bekerja</td>\n",
       "      <td>Belum</td>\n",
       "      <td>2.40</td>\n",
       "      <td>Terlambat</td>\n",
       "    </tr>\n",
       "    <tr>\n",
       "      <th>9</th>\n",
       "      <td>10</td>\n",
       "      <td>Perempuan</td>\n",
       "      <td>Mahasiswa</td>\n",
       "      <td>Menikah</td>\n",
       "      <td>2.50</td>\n",
       "      <td>Terlambat</td>\n",
       "    </tr>\n",
       "    <tr>\n",
       "      <th>10</th>\n",
       "      <td>11</td>\n",
       "      <td>Perempuan</td>\n",
       "      <td>Mahasiswa</td>\n",
       "      <td>Belum</td>\n",
       "      <td>2.50</td>\n",
       "      <td>Terlambat</td>\n",
       "    </tr>\n",
       "    <tr>\n",
       "      <th>11</th>\n",
       "      <td>12</td>\n",
       "      <td>Perempuan</td>\n",
       "      <td>Mahasiswa</td>\n",
       "      <td>Belum</td>\n",
       "      <td>3.50</td>\n",
       "      <td>Tepat</td>\n",
       "    </tr>\n",
       "    <tr>\n",
       "      <th>12</th>\n",
       "      <td>13</td>\n",
       "      <td>Laki-laki</td>\n",
       "      <td>Bekerja</td>\n",
       "      <td>Menikah</td>\n",
       "      <td>3.30</td>\n",
       "      <td>Tepat</td>\n",
       "    </tr>\n",
       "    <tr>\n",
       "      <th>13</th>\n",
       "      <td>14</td>\n",
       "      <td>Laki-laki</td>\n",
       "      <td>Mahasiswa</td>\n",
       "      <td>Menikah</td>\n",
       "      <td>3.25</td>\n",
       "      <td>Tepat</td>\n",
       "    </tr>\n",
       "    <tr>\n",
       "      <th>14</th>\n",
       "      <td>15</td>\n",
       "      <td>Laki-laki</td>\n",
       "      <td>Mahasiswa</td>\n",
       "      <td>Belum</td>\n",
       "      <td>2.30</td>\n",
       "      <td>Terlambat</td>\n",
       "    </tr>\n",
       "  </tbody>\n",
       "</table>\n",
       "</div>"
      ],
      "text/plain": [
       "    No Jenis Kelamin Status Mahasiswa Status Pernikahan  IPK Semester 1-6  \\\n",
       "0    1     Laki-laki        Mahasiswa             Belum              3.17   \n",
       "1    2     Laki-laki          Bekerja             Belum              3.30   \n",
       "2    3     Perempuan        Mahasiswa             Belum              3.01   \n",
       "3    4     Perempuan        Mahasiswa           Menikah              3.25   \n",
       "4    5     Laki-laki          Bekerja           Menikah              3.20   \n",
       "5    6     Laki-laki          Bekerja           Menikah              2.50   \n",
       "6    7     Perempuan          Bekerja           Menikah              3.00   \n",
       "7    8     Perempuan          Bekerja             Belum              2.70   \n",
       "8    9     Laki-laki          Bekerja             Belum              2.40   \n",
       "9   10     Perempuan        Mahasiswa           Menikah              2.50   \n",
       "10  11     Perempuan        Mahasiswa             Belum              2.50   \n",
       "11  12     Perempuan        Mahasiswa             Belum              3.50   \n",
       "12  13     Laki-laki          Bekerja           Menikah              3.30   \n",
       "13  14     Laki-laki        Mahasiswa           Menikah              3.25   \n",
       "14  15     Laki-laki        Mahasiswa             Belum              2.30   \n",
       "\n",
       "   Status Kelulusan  \n",
       "0             Tepat  \n",
       "1             Tepat  \n",
       "2             Tepat  \n",
       "3             Tepat  \n",
       "4             Tepat  \n",
       "5         Terlambat  \n",
       "6         Terlambat  \n",
       "7         Terlambat  \n",
       "8         Terlambat  \n",
       "9         Terlambat  \n",
       "10        Terlambat  \n",
       "11            Tepat  \n",
       "12            Tepat  \n",
       "13            Tepat  \n",
       "14        Terlambat  "
      ]
     },
     "execution_count": 1,
     "metadata": {},
     "output_type": "execute_result"
    }
   ],
   "source": [
    "import pandas as pd\n",
    "\n",
    "# membaca dataset\n",
    "dataset= pd.read_csv(\"dataset no 2.csv\")\n",
    "dataset"
   ]
  },
  {
   "cell_type": "markdown",
   "id": "3119bedd",
   "metadata": {},
   "source": [
    "# Scatter Plot"
   ]
  },
  {
   "cell_type": "code",
   "execution_count": 2,
   "id": "42a3a912",
   "metadata": {},
   "outputs": [
    {
     "data": {
      "image/png": "[encoded data removed]",
      "text/plain": [
       "<Figure size 432x288 with 1 Axes>"
      ]
     },
     "metadata": {
      "needs_background": "light"
     },
     "output_type": "display_data"
    }
   ],
   "source": [
    "# menampilkan hubungan antara dua variabel numerik.\n",
    "import seaborn as sns\n",
    "import matplotlib.pyplot as plt\n",
    " \n",
    "sns.scatterplot(x='No',y='IPK Semester 1-6', data=dataset,\n",
    "            hue='Status Kelulusan')\n",
    " \n",
    "plt.show()"
   ]
  },
  {
   "cell_type": "code",
   "execution_count": 3,
   "id": "794ac559",
   "metadata": {
    "scrolled": false
   },
   "outputs": [
    {
     "name": "stdout",
     "output_type": "stream",
     "text": [
      "(3, 5) (12, 5) (3,) (12,)\n"
     ]
    }
   ],
   "source": [
    "from sklearn.model_selection import train_test_split\n",
    "\n",
    "X = dataset.drop(columns='Status Kelulusan')\n",
    "y = dataset['Status Kelulusan']\n",
    "\n",
    "X_train, X_test, y_train, y_test = train_test_split(X, y, test_size=0.8, random_state=0)\n",
    "\n",
    "print(X_train.shape, X_test.shape, y_train.shape, y_test.shape)"
   ]
  },
  {
   "cell_type": "code",
   "execution_count": 4,
   "id": "8cda9175",
   "metadata": {},
   "outputs": [],
   "source": [
    "from sklearn.compose import ColumnTransformer\n",
    "from jcopml.pipeline import num_pipe, cat_pipe\n",
    "\n",
    "preprocessor = ColumnTransformer([\n",
    "    ('numeric', num_pipe(), ['No', 'IPK Semester 1-6']),\n",
    "    ('categoric', cat_pipe(encoder='onehot'), ['Jenis Kelamin', 'Status Mahasiswa', 'Status Pernikahan']),\n",
    "])"
   ]
  },
  {
   "cell_type": "code",
   "execution_count": 5,
   "id": "ac665ebd",
   "metadata": {},
   "outputs": [],
   "source": [
    "from sklearn.naive_bayes import GaussianNB\n",
    "from sklearn.pipeline import Pipeline\n",
    "pipeline = Pipeline([\n",
    "    ('prep', preprocessor),\n",
    "    ('algo', GaussianNB())\n",
    "])"
   ]
  },
  {
   "cell_type": "code",
   "execution_count": 6,
   "id": "923a2a3a",
   "metadata": {
    "scrolled": true
   },
   "outputs": [
    {
     "data": {
      "text/plain": [
       "Pipeline(steps=[('prep',\n",
       "                 ColumnTransformer(transformers=[('numeric',\n",
       "                                                  Pipeline(steps=[('imputer',\n",
       "                                                                   SimpleImputer(strategy='median'))]),\n",
       "                                                  ['No', 'IPK Semester 1-6']),\n",
       "                                                 ('categoric',\n",
       "                                                  Pipeline(steps=[('imputer',\n",
       "                                                                   SimpleImputer(strategy='most_frequent')),\n",
       "                                                                  ('onehot',\n",
       "                                                                   OneHotEncoder(handle_unknown='ignore'))]),\n",
       "                                                  ['Jenis Kelamin',\n",
       "                                                   'Status Mahasiswa',\n",
       "                                                   'Status Pernikahan'])])),\n",
       "                ('algo', GaussianNB())])"
      ]
     },
     "execution_count": 6,
     "metadata": {},
     "output_type": "execute_result"
    }
   ],
   "source": [
    "pipeline.fit(X_train, y_train)"
   ]
  },
  {
   "cell_type": "code",
   "execution_count": 7,
   "id": "766c54e7",
   "metadata": {},
   "outputs": [
    {
     "data": {
      "text/plain": [
       "1.0"
      ]
     },
     "execution_count": 7,
     "metadata": {},
     "output_type": "execute_result"
    }
   ],
   "source": [
    "pipeline.score(X_train, y_train)"
   ]
  },
  {
   "cell_type": "code",
   "execution_count": 8,
   "id": "42091670",
   "metadata": {},
   "outputs": [
    {
     "data": {
      "text/plain": [
       "0.5"
      ]
     },
     "execution_count": 8,
     "metadata": {},
     "output_type": "execute_result"
    }
   ],
   "source": [
    "pipeline.score(X_test, y_test)"
   ]
  },
  {
   "cell_type": "markdown",
   "id": "d1d6c64d",
   "metadata": {},
   "source": [
    "# Confusion Matrix"
   ]
  },
  {
   "cell_type": "code",
   "execution_count": 9,
   "id": "06960509",
   "metadata": {},
   "outputs": [
    {
     "data": {
      "image/png": "[encoded data removed]",
      "text/plain": [
       "<Figure size 792x360 with 2 Axes>"
      ]
     },
     "metadata": {
      "needs_background": "light"
     },
     "output_type": "display_data"
    }
   ],
   "source": [
    "from jcopml.plot import plot_confusion_matrix\n",
    "plot_confusion_matrix(X_train, y_train, X_test, y_test, pipeline)"
   ]
  },
  {
   "cell_type": "markdown",
   "id": "7604e163",
   "metadata": {},
   "source": [
    "# Membuat Prediksi dari Data Testing"
   ]
  },
  {
   "cell_type": "code",
   "execution_count": 10,
   "id": "0416ba74",
   "metadata": {},
   "outputs": [
    {
     "name": "stdout",
     "output_type": "stream",
     "text": [
      "Prediksi status kelulusan: Terlambat\n"
     ]
    }
   ],
   "source": [
    "# Create a test dataset\n",
    "X_test = pd.DataFrame({\n",
    "    'No': [1],\n",
    "    'Jenis Kelamin': ['Laki-laki'],\n",
    "    'Status Mahasiswa': ['Mahasiswa'],\n",
    "    'Status Pernikahan': ['Belum'],\n",
    "    'IPK Semester 1-6': [2.7]\n",
    "})\n",
    "\n",
    "# Make predictions on the test dataset\n",
    "y_pred = pipeline.predict(X_test)\n",
    "\n",
    "# Print the predicted graduation status\n",
    "if y_pred[0] == 'Tepat':\n",
    "    print('Prediksi status kelulusan: Terlambat')\n",
    "else:\n",
    "    print('Prediksi status kelulusan:', y_pred[0])\n"
   ]
  }
 ],
 "metadata": {
  "kernelspec": {
   "display_name": "Python 3 (ipykernel)",
   "language": "python",
   "name": "python3"
  },
  "language_info": {
   "codemirror_mode": {
    "name": "ipython",
    "version": 3
   },
   "file_extension": ".py",
   "mimetype": "text/x-python",
   "name": "python",
   "nbconvert_exporter": "python",
   "pygments_lexer": "ipython3",
   "version": "3.9.7"
  }
 },
 "nbformat": 4,
 "nbformat_minor": 5
}

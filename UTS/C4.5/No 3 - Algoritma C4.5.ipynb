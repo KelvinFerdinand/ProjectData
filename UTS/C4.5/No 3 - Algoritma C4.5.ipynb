{
 "cells": [
  {
   "cell_type": "markdown",
   "id": "323b9494",
   "metadata": {},
   "source": [
    "#  Algoritma C4.5"
   ]
  },
  {
   "cell_type": "markdown",
   "id": "21e3e12e",
   "metadata": {},
   "source": [
    "# ANGGOTA KELOMPOK\n",
    "- Fenny Jong (535210001)\n",
    "- Kelvin Ferdinand (535210027)\n",
    "- Jefri Jaya (535210048)"
   ]
  },
  {
   "cell_type": "markdown",
   "id": "80bd467a",
   "metadata": {},
   "source": [
    "# Load Dataset"
   ]
  },
  {
   "cell_type": "code",
   "execution_count": 1,
   "id": "2fda4391",
   "metadata": {},
   "outputs": [
    {
     "data": {
      "text/html": [
       "<div>\n",
       "<style scoped>\n",
       "    .dataframe tbody tr th:only-of-type {\n",
       "        vertical-align: middle;\n",
       "    }\n",
       "\n",
       "    .dataframe tbody tr th {\n",
       "        vertical-align: top;\n",
       "    }\n",
       "\n",
       "    .dataframe thead th {\n",
       "        text-align: right;\n",
       "    }\n",
       "</style>\n",
       "<table border=\"1\" class=\"dataframe\">\n",
       "  <thead>\n",
       "    <tr style=\"text-align: right;\">\n",
       "      <th></th>\n",
       "      <th>No</th>\n",
       "      <th>Pelatih</th>\n",
       "      <th>Kadang Sendiri</th>\n",
       "      <th>Latihan</th>\n",
       "      <th>Stamina</th>\n",
       "      <th>Mental</th>\n",
       "      <th>Menang</th>\n",
       "    </tr>\n",
       "  </thead>\n",
       "  <tbody>\n",
       "    <tr>\n",
       "      <th>0</th>\n",
       "      <td>1</td>\n",
       "      <td>Pengertian</td>\n",
       "      <td>Ya</td>\n",
       "      <td>Rutin</td>\n",
       "      <td>Kuat</td>\n",
       "      <td>PD</td>\n",
       "      <td>Ya</td>\n",
       "    </tr>\n",
       "    <tr>\n",
       "      <th>1</th>\n",
       "      <td>2</td>\n",
       "      <td>Pengertian</td>\n",
       "      <td>Ya</td>\n",
       "      <td>Rutin</td>\n",
       "      <td>Kuat</td>\n",
       "      <td>Gerogi</td>\n",
       "      <td>Tidak</td>\n",
       "    </tr>\n",
       "    <tr>\n",
       "      <th>2</th>\n",
       "      <td>3</td>\n",
       "      <td>Pengertian</td>\n",
       "      <td>Ya</td>\n",
       "      <td>Rutin</td>\n",
       "      <td>Lemah</td>\n",
       "      <td>PD</td>\n",
       "      <td>Ya</td>\n",
       "    </tr>\n",
       "    <tr>\n",
       "      <th>3</th>\n",
       "      <td>4</td>\n",
       "      <td>Pengertian</td>\n",
       "      <td>Ya</td>\n",
       "      <td>Jarang</td>\n",
       "      <td>Lemah</td>\n",
       "      <td>PD</td>\n",
       "      <td>Ya</td>\n",
       "    </tr>\n",
       "    <tr>\n",
       "      <th>4</th>\n",
       "      <td>5</td>\n",
       "      <td>Pengertian</td>\n",
       "      <td>Ya</td>\n",
       "      <td>Tidak ada</td>\n",
       "      <td>Lemah</td>\n",
       "      <td>PD</td>\n",
       "      <td>Tidak</td>\n",
       "    </tr>\n",
       "    <tr>\n",
       "      <th>5</th>\n",
       "      <td>6</td>\n",
       "      <td>Pengertian</td>\n",
       "      <td>Tidak</td>\n",
       "      <td>Rutin</td>\n",
       "      <td>Kuat</td>\n",
       "      <td>PD</td>\n",
       "      <td>Ya</td>\n",
       "    </tr>\n",
       "    <tr>\n",
       "      <th>6</th>\n",
       "      <td>7</td>\n",
       "      <td>Pengertian</td>\n",
       "      <td>Tidak</td>\n",
       "      <td>Jarang</td>\n",
       "      <td>Lemah</td>\n",
       "      <td>Gerogi</td>\n",
       "      <td>Tidak</td>\n",
       "    </tr>\n",
       "    <tr>\n",
       "      <th>7</th>\n",
       "      <td>8</td>\n",
       "      <td>Menekan</td>\n",
       "      <td>Ya</td>\n",
       "      <td>Rutin</td>\n",
       "      <td>Lemah</td>\n",
       "      <td>PD</td>\n",
       "      <td>Ya</td>\n",
       "    </tr>\n",
       "    <tr>\n",
       "      <th>8</th>\n",
       "      <td>9</td>\n",
       "      <td>Menekan</td>\n",
       "      <td>Tidak</td>\n",
       "      <td>Rutin</td>\n",
       "      <td>Lemah</td>\n",
       "      <td>Gerogi</td>\n",
       "      <td>Tidak</td>\n",
       "    </tr>\n",
       "    <tr>\n",
       "      <th>9</th>\n",
       "      <td>10</td>\n",
       "      <td>Menekan</td>\n",
       "      <td>Ya</td>\n",
       "      <td>Jarang</td>\n",
       "      <td>Lemah</td>\n",
       "      <td>Gerogi</td>\n",
       "      <td>Tidak</td>\n",
       "    </tr>\n",
       "    <tr>\n",
       "      <th>10</th>\n",
       "      <td>11</td>\n",
       "      <td>Menekan</td>\n",
       "      <td>Ya</td>\n",
       "      <td>Rutin</td>\n",
       "      <td>Kuat</td>\n",
       "      <td>PD</td>\n",
       "      <td>Ya</td>\n",
       "    </tr>\n",
       "    <tr>\n",
       "      <th>11</th>\n",
       "      <td>12</td>\n",
       "      <td>Menekan</td>\n",
       "      <td>Tidak</td>\n",
       "      <td>Rutin</td>\n",
       "      <td>Kuat</td>\n",
       "      <td>PD</td>\n",
       "      <td>Ya</td>\n",
       "    </tr>\n",
       "  </tbody>\n",
       "</table>\n",
       "</div>"
      ],
      "text/plain": [
       "    No     Pelatih Kadang Sendiri    Latihan Stamina  Mental Menang\n",
       "0    1  Pengertian             Ya      Rutin    Kuat      PD     Ya\n",
       "1    2  Pengertian             Ya      Rutin    Kuat  Gerogi  Tidak\n",
       "2    3  Pengertian             Ya      Rutin   Lemah      PD     Ya\n",
       "3    4  Pengertian             Ya     Jarang   Lemah      PD     Ya\n",
       "4    5  Pengertian             Ya  Tidak ada   Lemah      PD  Tidak\n",
       "5    6  Pengertian          Tidak      Rutin    Kuat      PD     Ya\n",
       "6    7  Pengertian          Tidak     Jarang   Lemah  Gerogi  Tidak\n",
       "7    8     Menekan             Ya      Rutin   Lemah      PD     Ya\n",
       "8    9     Menekan          Tidak      Rutin   Lemah  Gerogi  Tidak\n",
       "9   10     Menekan             Ya     Jarang   Lemah  Gerogi  Tidak\n",
       "10  11     Menekan             Ya      Rutin    Kuat      PD     Ya\n",
       "11  12     Menekan          Tidak      Rutin    Kuat      PD     Ya"
      ]
     },
     "execution_count": 1,
     "metadata": {},
     "output_type": "execute_result"
    }
   ],
   "source": [
    "# Load libraries\n",
    "import pandas as pd\n",
    "from sklearn.tree import DecisionTreeClassifier # Import Decision Tree Classifier\n",
    "# Import train_test_split function\n",
    "from sklearn.model_selection import train_test_split \n",
    "#Import scikit-learn metrics module for accuracy calculation\n",
    "from sklearn import metrics \n",
    "# load dataset\n",
    "dataset = pd.read_csv(\"dataset no 3.csv\", delimiter=',')\n",
    "# splitting the dataset into input and output datasets\n",
    "X = dataset.iloc[:, [0,1]].values\n",
    "y = dataset.iloc[:, 2].values\n",
    "dataset\n"
   ]
  },
  {
   "cell_type": "markdown",
   "id": "4f3f2957",
   "metadata": {},
   "source": [
    "# Transformasi Data"
   ]
  },
  {
   "cell_type": "code",
   "execution_count": 3,
   "id": "1dece3e0",
   "metadata": {},
   "outputs": [
    {
     "data": {
      "text/html": [
       "<div>\n",
       "<style scoped>\n",
       "    .dataframe tbody tr th:only-of-type {\n",
       "        vertical-align: middle;\n",
       "    }\n",
       "\n",
       "    .dataframe tbody tr th {\n",
       "        vertical-align: top;\n",
       "    }\n",
       "\n",
       "    .dataframe thead th {\n",
       "        text-align: right;\n",
       "    }\n",
       "</style>\n",
       "<table border=\"1\" class=\"dataframe\">\n",
       "  <thead>\n",
       "    <tr style=\"text-align: right;\">\n",
       "      <th></th>\n",
       "      <th>No</th>\n",
       "      <th>Pelatih</th>\n",
       "      <th>Kadang Sendiri</th>\n",
       "      <th>Latihan</th>\n",
       "      <th>Stamina</th>\n",
       "      <th>Mental</th>\n",
       "      <th>Menang</th>\n",
       "    </tr>\n",
       "  </thead>\n",
       "  <tbody>\n",
       "    <tr>\n",
       "      <th>0</th>\n",
       "      <td>1</td>\n",
       "      <td>0</td>\n",
       "      <td>1</td>\n",
       "      <td>0</td>\n",
       "      <td>0</td>\n",
       "      <td>0</td>\n",
       "      <td>1</td>\n",
       "    </tr>\n",
       "    <tr>\n",
       "      <th>1</th>\n",
       "      <td>2</td>\n",
       "      <td>0</td>\n",
       "      <td>1</td>\n",
       "      <td>0</td>\n",
       "      <td>0</td>\n",
       "      <td>1</td>\n",
       "      <td>0</td>\n",
       "    </tr>\n",
       "    <tr>\n",
       "      <th>2</th>\n",
       "      <td>3</td>\n",
       "      <td>0</td>\n",
       "      <td>1</td>\n",
       "      <td>0</td>\n",
       "      <td>1</td>\n",
       "      <td>0</td>\n",
       "      <td>1</td>\n",
       "    </tr>\n",
       "    <tr>\n",
       "      <th>3</th>\n",
       "      <td>4</td>\n",
       "      <td>0</td>\n",
       "      <td>1</td>\n",
       "      <td>1</td>\n",
       "      <td>1</td>\n",
       "      <td>0</td>\n",
       "      <td>1</td>\n",
       "    </tr>\n",
       "    <tr>\n",
       "      <th>4</th>\n",
       "      <td>5</td>\n",
       "      <td>0</td>\n",
       "      <td>1</td>\n",
       "      <td>2</td>\n",
       "      <td>1</td>\n",
       "      <td>0</td>\n",
       "      <td>0</td>\n",
       "    </tr>\n",
       "    <tr>\n",
       "      <th>5</th>\n",
       "      <td>6</td>\n",
       "      <td>0</td>\n",
       "      <td>0</td>\n",
       "      <td>0</td>\n",
       "      <td>0</td>\n",
       "      <td>0</td>\n",
       "      <td>1</td>\n",
       "    </tr>\n",
       "    <tr>\n",
       "      <th>6</th>\n",
       "      <td>7</td>\n",
       "      <td>0</td>\n",
       "      <td>0</td>\n",
       "      <td>1</td>\n",
       "      <td>1</td>\n",
       "      <td>1</td>\n",
       "      <td>0</td>\n",
       "    </tr>\n",
       "    <tr>\n",
       "      <th>7</th>\n",
       "      <td>8</td>\n",
       "      <td>1</td>\n",
       "      <td>1</td>\n",
       "      <td>0</td>\n",
       "      <td>1</td>\n",
       "      <td>0</td>\n",
       "      <td>1</td>\n",
       "    </tr>\n",
       "    <tr>\n",
       "      <th>8</th>\n",
       "      <td>9</td>\n",
       "      <td>1</td>\n",
       "      <td>0</td>\n",
       "      <td>0</td>\n",
       "      <td>1</td>\n",
       "      <td>1</td>\n",
       "      <td>0</td>\n",
       "    </tr>\n",
       "    <tr>\n",
       "      <th>9</th>\n",
       "      <td>10</td>\n",
       "      <td>1</td>\n",
       "      <td>1</td>\n",
       "      <td>1</td>\n",
       "      <td>1</td>\n",
       "      <td>1</td>\n",
       "      <td>0</td>\n",
       "    </tr>\n",
       "    <tr>\n",
       "      <th>10</th>\n",
       "      <td>11</td>\n",
       "      <td>1</td>\n",
       "      <td>1</td>\n",
       "      <td>0</td>\n",
       "      <td>0</td>\n",
       "      <td>0</td>\n",
       "      <td>1</td>\n",
       "    </tr>\n",
       "    <tr>\n",
       "      <th>11</th>\n",
       "      <td>12</td>\n",
       "      <td>1</td>\n",
       "      <td>0</td>\n",
       "      <td>0</td>\n",
       "      <td>0</td>\n",
       "      <td>0</td>\n",
       "      <td>1</td>\n",
       "    </tr>\n",
       "  </tbody>\n",
       "</table>\n",
       "</div>"
      ],
      "text/plain": [
       "    No  Pelatih  Kadang Sendiri  Latihan  Stamina  Mental  Menang\n",
       "0    1        0               1        0        0       0       1\n",
       "1    2        0               1        0        0       1       0\n",
       "2    3        0               1        0        1       0       1\n",
       "3    4        0               1        1        1       0       1\n",
       "4    5        0               1        2        1       0       0\n",
       "5    6        0               0        0        0       0       1\n",
       "6    7        0               0        1        1       1       0\n",
       "7    8        1               1        0        1       0       1\n",
       "8    9        1               0        0        1       1       0\n",
       "9   10        1               1        1        1       1       0\n",
       "10  11        1               1        0        0       0       1\n",
       "11  12        1               0        0        0       0       1"
      ]
     },
     "execution_count": 3,
     "metadata": {},
     "output_type": "execute_result"
    }
   ],
   "source": [
    "import pandas as pd\n",
    "\n",
    "# membaca file dataset.csv\n",
    "data = pd.read_csv('dataset no 3.csv')\n",
    "\n",
    "# mengubah nilai pada kolom Pelatih menjadi numerik\n",
    "data['Pelatih'] = data['Pelatih'].replace({'Pengertian': 0, 'Menekan': 1})\n",
    "\n",
    "# mengubah nilai pada kolom Kadang Sendiri menjadi numerik\n",
    "data['Kadang Sendiri'] = data['Kadang Sendiri'].replace({'Tidak': 0, 'Ya': 1})\n",
    "\n",
    "# mengubah nilai pada kolom Latihan menjadi numerik\n",
    "data['Latihan'] = data['Latihan'].replace({'Rutin': 0, 'Jarang': 1, 'Tidak ada': 2})\n",
    "\n",
    "# mengubah nilai pada kolom Stamina menjadi numerik\n",
    "data['Stamina'] = data['Stamina'].replace({'Kuat': 0, 'Lemah': 1})\n",
    "\n",
    "# mengubah nilai pada kolom Mental menjadi numerik\n",
    "data['Mental'] = data['Mental'].replace({'PD': 0, 'Gerogi': 1})\n",
    "\n",
    "# mengubah nilai pada kolom Menang menjadi numerik\n",
    "data['Menang'] = data['Menang'].replace({'Ya': 1, 'Tidak': 0})\n",
    "\n",
    "# memisahkan data menjadi atribut dan target\n",
    "X = data.drop(columns=['No', 'Pelatih', 'Menang'])\n",
    "y = data['Menang']\n",
    "data\n"
   ]
  },
  {
   "cell_type": "markdown",
   "id": "58aabea1",
   "metadata": {},
   "source": [
    "# Visualisasi Pohon Keputusan"
   ]
  },
  {
   "cell_type": "code",
   "execution_count": 4,
   "id": "d69a4685",
   "metadata": {},
   "outputs": [
    {
     "data": {
      "image/png": "[encoded data removed]",
      "text/plain": [
       "<Figure size 432x576 with 1 Axes>"
      ]
     },
     "metadata": {
      "needs_background": "light"
     },
     "output_type": "display_data"
    }
   ],
   "source": [
    "from sklearn.tree import DecisionTreeClassifier\n",
    "from sklearn.tree import plot_tree\n",
    "import matplotlib.pyplot as plt\n",
    "\n",
    "# membuat model Decision Tree\n",
    "dtc = DecisionTreeClassifier()\n",
    "dtc = DecisionTreeClassifier(criterion='entropy')\n",
    "dtc.fit(X, y)\n",
    "\n",
    "# menampilkan decision tree\n",
    "plt.figure(figsize=(6,8))\n",
    "plot_tree(dtc, feature_names=X.columns, class_names=['Tidak', 'Ya'], filled=True)\n",
    "plt.show()\n"
   ]
  },
  {
   "cell_type": "markdown",
   "id": "a373b415",
   "metadata": {},
   "source": [
    "# Scaling the Dataset & Spliting Dataset"
   ]
  },
  {
   "cell_type": "code",
   "execution_count": 5,
   "id": "45257831",
   "metadata": {},
   "outputs": [],
   "source": [
    "from sklearn.preprocessing import StandardScaler\n",
    "# splitting the dataaset into Training and Testing Data \n",
    "from sklearn.model_selection import train_test_split\n",
    "# Split dataset into training set and test set\n",
    "X_train, X_test, y_train, y_test = train_test_split(X, y, test_size=0.3, random_state=0) # 70% training and 30% test\n",
    "\n",
    "# melakukan scaling pada data latih dan data uji\n",
    "sc = StandardScaler()\n",
    "X_train = sc.fit_transform(X_train)\n",
    "X_test = sc.transform(X_test)\n"
   ]
  },
  {
   "cell_type": "markdown",
   "id": "cfe7d31e",
   "metadata": {},
   "source": [
    "# Training the C4.5"
   ]
  },
  {
   "cell_type": "code",
   "execution_count": 6,
   "id": "be989e49",
   "metadata": {},
   "outputs": [
    {
     "data": {
      "text/plain": [
       "DecisionTreeClassifier(criterion='entropy')"
      ]
     },
     "execution_count": 6,
     "metadata": {},
     "output_type": "execute_result"
    }
   ],
   "source": [
    "# Membangun model pohon keputusan C4.5\n",
    "dtc.fit(X_train, y_train)"
   ]
  },
  {
   "cell_type": "markdown",
   "id": "b42393f7",
   "metadata": {},
   "source": [
    "# Predicting the Outputs"
   ]
  },
  {
   "cell_type": "code",
   "execution_count": 7,
   "id": "16021764",
   "metadata": {},
   "outputs": [
    {
     "name": "stdout",
     "output_type": "stream",
     "text": [
      "[0 1 1 1]\n"
     ]
    }
   ],
   "source": [
    "# melakukan prediksi pada data testing\n",
    "# misalnya data test memiliki atribut Pelatih: Pengertian, Kadang Sendiri: Ya, \n",
    "# Latihan: Jarang, Stamina: lemah, dan Mental: gerogi\n",
    "y_pred = dtc.predict(X_test)\n",
    "print(y_pred)"
   ]
  },
  {
   "cell_type": "code",
   "execution_count": 8,
   "id": "e68e59a1",
   "metadata": {},
   "outputs": [
    {
     "name": "stdout",
     "output_type": "stream",
     "text": [
      "Prediksi: Kalah\n"
     ]
    }
   ],
   "source": [
    "if y_pred[0] == 1:\n",
    "    print(\"Prediksi: Menang\")\n",
    "else:\n",
    "    print(\"Prediksi: Kalah\")"
   ]
  },
  {
   "cell_type": "markdown",
   "id": "9fb5f22d",
   "metadata": {},
   "source": [
    "# Accuracy"
   ]
  },
  {
   "cell_type": "code",
   "execution_count": 9,
   "id": "b8288499",
   "metadata": {},
   "outputs": [
    {
     "name": "stdout",
     "output_type": "stream",
     "text": [
      "Akurasi:  75.0 %\n"
     ]
    }
   ],
   "source": [
    "# importing the accuracy score\n",
    "from sklearn.metrics import accuracy_score\n",
    "# Calculate accuracy in percentage\n",
    "accuracy = accuracy_score(y_test, y_pred) * 100\n",
    "print(\"Akurasi: \", accuracy, \"%\")"
   ]
  },
  {
   "cell_type": "markdown",
   "id": "5aed42a5",
   "metadata": {},
   "source": [
    "# Confusion Matrix"
   ]
  },
  {
   "cell_type": "code",
   "execution_count": 10,
   "id": "59556445",
   "metadata": {},
   "outputs": [
    {
     "data": {
      "text/plain": [
       "<AxesSubplot:>"
      ]
     },
     "execution_count": 10,
     "metadata": {},
     "output_type": "execute_result"
    },
    {
     "data": {
      "image/png": "[encoded data removed]",
      "text/plain": [
       "<Figure size 432x288 with 2 Axes>"
      ]
     },
     "metadata": {
      "needs_background": "light"
     },
     "output_type": "display_data"
    }
   ],
   "source": [
    "import seaborn as sns\n",
    "# creating confusion matrix\n",
    "from sklearn.metrics import confusion_matrix\n",
    "cm = confusion_matrix(y_test,y_pred)\n",
    "# Making the Confusion Matrix\n",
    "cm = confusion_matrix(y_pred, y_test)\n",
    "sns.heatmap(cm,annot=True)"
   ]
  },
  {
   "cell_type": "markdown",
   "id": "b31f2a72",
   "metadata": {},
   "source": [
    "# Mengukur Performa"
   ]
  },
  {
   "cell_type": "code",
   "execution_count": 11,
   "id": "a01ef02f",
   "metadata": {},
   "outputs": [
    {
     "name": "stdout",
     "output_type": "stream",
     "text": [
      "              precision    recall  f1-score   support\n",
      "\n",
      "           0       1.00      0.50      0.67         2\n",
      "           1       0.67      1.00      0.80         2\n",
      "\n",
      "    accuracy                           0.75         4\n",
      "   macro avg       0.83      0.75      0.73         4\n",
      "weighted avg       0.83      0.75      0.73         4\n",
      "\n"
     ]
    }
   ],
   "source": [
    "from sklearn.metrics import classification_report\n",
    "# membuat classification report\n",
    "print(classification_report(y_test, y_pred))"
   ]
  },
  {
   "cell_type": "code",
   "execution_count": null,
   "id": "1586e0ea",
   "metadata": {},
   "outputs": [],
   "source": []
  }
 ],
 "metadata": {
  "kernelspec": {
   "display_name": "Python 3 (ipykernel)",
   "language": "python",
   "name": "python3"
  },
  "language_info": {
   "codemirror_mode": {
    "name": "ipython",
    "version": 3
   },
   "file_extension": ".py",
   "mimetype": "text/x-python",
   "name": "python",
   "nbconvert_exporter": "python",
   "pygments_lexer": "ipython3",
   "version": "3.9.7"
  }
 },
 "nbformat": 4,
 "nbformat_minor": 5
}

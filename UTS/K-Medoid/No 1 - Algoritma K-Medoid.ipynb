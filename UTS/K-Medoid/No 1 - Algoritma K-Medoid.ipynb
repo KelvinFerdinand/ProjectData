{
 "cells": [
  {
   "cell_type": "code",
   "execution_count": 1,
   "metadata": {},
   "outputs": [
    {
     "data": {
      "text/html": [
       "<div>\n",
       "<style scoped>\n",
       "    .dataframe tbody tr th:only-of-type {\n",
       "        vertical-align: middle;\n",
       "    }\n",
       "\n",
       "    .dataframe tbody tr th {\n",
       "        vertical-align: top;\n",
       "    }\n",
       "\n",
       "    .dataframe thead th {\n",
       "        text-align: right;\n",
       "    }\n",
       "</style>\n",
       "<table border=\"1\" class=\"dataframe\">\n",
       "  <thead>\n",
       "    <tr style=\"text-align: right;\">\n",
       "      <th></th>\n",
       "      <th>No</th>\n",
       "      <th>NAMA</th>\n",
       "      <th>UTS</th>\n",
       "      <th>TUGAS</th>\n",
       "      <th>UAS</th>\n",
       "    </tr>\n",
       "  </thead>\n",
       "  <tbody>\n",
       "    <tr>\n",
       "      <th>0</th>\n",
       "      <td>1</td>\n",
       "      <td>Roy</td>\n",
       "      <td>89</td>\n",
       "      <td>90</td>\n",
       "      <td>75</td>\n",
       "    </tr>\n",
       "    <tr>\n",
       "      <th>1</th>\n",
       "      <td>2</td>\n",
       "      <td>Sintia</td>\n",
       "      <td>90</td>\n",
       "      <td>71</td>\n",
       "      <td>95</td>\n",
       "    </tr>\n",
       "    <tr>\n",
       "      <th>2</th>\n",
       "      <td>3</td>\n",
       "      <td>Iqbal</td>\n",
       "      <td>70</td>\n",
       "      <td>75</td>\n",
       "      <td>80</td>\n",
       "    </tr>\n",
       "    <tr>\n",
       "      <th>3</th>\n",
       "      <td>4</td>\n",
       "      <td>Dilan</td>\n",
       "      <td>45</td>\n",
       "      <td>65</td>\n",
       "      <td>59</td>\n",
       "    </tr>\n",
       "    <tr>\n",
       "      <th>4</th>\n",
       "      <td>5</td>\n",
       "      <td>Ratna</td>\n",
       "      <td>65</td>\n",
       "      <td>75</td>\n",
       "      <td>53</td>\n",
       "    </tr>\n",
       "    <tr>\n",
       "      <th>5</th>\n",
       "      <td>6</td>\n",
       "      <td>Merry</td>\n",
       "      <td>80</td>\n",
       "      <td>70</td>\n",
       "      <td>75</td>\n",
       "    </tr>\n",
       "    <tr>\n",
       "      <th>6</th>\n",
       "      <td>7</td>\n",
       "      <td>Rudi</td>\n",
       "      <td>90</td>\n",
       "      <td>85</td>\n",
       "      <td>81</td>\n",
       "    </tr>\n",
       "    <tr>\n",
       "      <th>7</th>\n",
       "      <td>8</td>\n",
       "      <td>Hafiz</td>\n",
       "      <td>70</td>\n",
       "      <td>70</td>\n",
       "      <td>73</td>\n",
       "    </tr>\n",
       "    <tr>\n",
       "      <th>8</th>\n",
       "      <td>9</td>\n",
       "      <td>Gede</td>\n",
       "      <td>96</td>\n",
       "      <td>93</td>\n",
       "      <td>85</td>\n",
       "    </tr>\n",
       "    <tr>\n",
       "      <th>9</th>\n",
       "      <td>10</td>\n",
       "      <td>Christian</td>\n",
       "      <td>60</td>\n",
       "      <td>55</td>\n",
       "      <td>48</td>\n",
       "    </tr>\n",
       "    <tr>\n",
       "      <th>10</th>\n",
       "      <td>11</td>\n",
       "      <td>Justin</td>\n",
       "      <td>45</td>\n",
       "      <td>60</td>\n",
       "      <td>58</td>\n",
       "    </tr>\n",
       "    <tr>\n",
       "      <th>11</th>\n",
       "      <td>12</td>\n",
       "      <td>Jesika</td>\n",
       "      <td>60</td>\n",
       "      <td>70</td>\n",
       "      <td>72</td>\n",
       "    </tr>\n",
       "    <tr>\n",
       "      <th>12</th>\n",
       "      <td>13</td>\n",
       "      <td>Ayu</td>\n",
       "      <td>85</td>\n",
       "      <td>90</td>\n",
       "      <td>88</td>\n",
       "    </tr>\n",
       "    <tr>\n",
       "      <th>13</th>\n",
       "      <td>14</td>\n",
       "      <td>Siska</td>\n",
       "      <td>52</td>\n",
       "      <td>68</td>\n",
       "      <td>55</td>\n",
       "    </tr>\n",
       "    <tr>\n",
       "      <th>14</th>\n",
       "      <td>15</td>\n",
       "      <td>Reitama</td>\n",
       "      <td>40</td>\n",
       "      <td>60</td>\n",
       "      <td>70</td>\n",
       "    </tr>\n",
       "  </tbody>\n",
       "</table>\n",
       "</div>"
      ],
      "text/plain": [
       "    No       NAMA  UTS  TUGAS  UAS\n",
       "0    1        Roy   89     90   75\n",
       "1    2     Sintia   90     71   95\n",
       "2    3      Iqbal   70     75   80\n",
       "3    4      Dilan   45     65   59\n",
       "4    5      Ratna   65     75   53\n",
       "5    6      Merry   80     70   75\n",
       "6    7       Rudi   90     85   81\n",
       "7    8      Hafiz   70     70   73\n",
       "8    9       Gede   96     93   85\n",
       "9   10  Christian   60     55   48\n",
       "10  11     Justin   45     60   58\n",
       "11  12     Jesika   60     70   72\n",
       "12  13        Ayu   85     90   88\n",
       "13  14      Siska   52     68   55\n",
       "14  15    Reitama   40     60   70"
      ]
     },
     "execution_count": 1,
     "metadata": {},
     "output_type": "execute_result"
    }
   ],
   "source": [
    "import pandas as pd\n",
    "\n",
    "# load the data from Excel\n",
    "data = pd.read_csv('dataset no 1.csv', delimiter=',')\n",
    "data"
   ]
  },
  {
   "cell_type": "code",
   "execution_count": 2,
   "metadata": {},
   "outputs": [],
   "source": [
    "# Mencari nilai Min dan Max\n",
    "minUTS = min(data.UTS)\n",
    "maxUTS = max(data.UTS)\n",
    "\n",
    "minTUGAS = min(data.TUGAS)\n",
    "maxTUGAS = max(data.TUGAS)\n",
    "\n",
    "minUAS = min(data.UAS)\n",
    "maxUAS = max(data.UAS)\n"
   ]
  },
  {
   "cell_type": "code",
   "execution_count": 3,
   "metadata": {},
   "outputs": [
    {
     "data": {
      "text/html": [
       "<div>\n",
       "<style scoped>\n",
       "    .dataframe tbody tr th:only-of-type {\n",
       "        vertical-align: middle;\n",
       "    }\n",
       "\n",
       "    .dataframe tbody tr th {\n",
       "        vertical-align: top;\n",
       "    }\n",
       "\n",
       "    .dataframe thead th {\n",
       "        text-align: right;\n",
       "    }\n",
       "</style>\n",
       "<table border=\"1\" class=\"dataframe\">\n",
       "  <thead>\n",
       "    <tr style=\"text-align: right;\">\n",
       "      <th></th>\n",
       "      <th>No</th>\n",
       "      <th>NAMA</th>\n",
       "      <th>UTS</th>\n",
       "      <th>TUGAS</th>\n",
       "      <th>UAS</th>\n",
       "    </tr>\n",
       "  </thead>\n",
       "  <tbody>\n",
       "    <tr>\n",
       "      <th>2</th>\n",
       "      <td>3</td>\n",
       "      <td>Iqbal</td>\n",
       "      <td>70</td>\n",
       "      <td>75</td>\n",
       "      <td>80</td>\n",
       "    </tr>\n",
       "    <tr>\n",
       "      <th>8</th>\n",
       "      <td>9</td>\n",
       "      <td>Gede</td>\n",
       "      <td>96</td>\n",
       "      <td>93</td>\n",
       "      <td>85</td>\n",
       "    </tr>\n",
       "    <tr>\n",
       "      <th>9</th>\n",
       "      <td>10</td>\n",
       "      <td>Christian</td>\n",
       "      <td>60</td>\n",
       "      <td>55</td>\n",
       "      <td>48</td>\n",
       "    </tr>\n",
       "  </tbody>\n",
       "</table>\n",
       "</div>"
      ],
      "text/plain": [
       "   No       NAMA  UTS  TUGAS  UAS\n",
       "2   3      Iqbal   70     75   80\n",
       "8   9       Gede   96     93   85\n",
       "9  10  Christian   60     55   48"
      ]
     },
     "execution_count": 3,
     "metadata": {},
     "output_type": "execute_result"
    }
   ],
   "source": [
    "# Menentukan nilai k\n",
    "k = 3;\n",
    "\n",
    "# Menentukan medoids yang ingin dicoba sebanyak k\n",
    "medoids = data.iloc[[2,8,9]]\n",
    "medoids"
   ]
  },
  {
   "cell_type": "code",
   "execution_count": 4,
   "metadata": {},
   "outputs": [
    {
     "data": {
      "text/plain": [
       "0     24.718414\n",
       "1     25.317978\n",
       "2      0.000000\n",
       "3     34.146742\n",
       "4     27.459060\n",
       "5     12.247449\n",
       "6     22.383029\n",
       "7      8.602325\n",
       "8     32.015621\n",
       "9     39.038443\n",
       "10    36.523965\n",
       "11    13.747727\n",
       "12    22.671568\n",
       "13    31.591138\n",
       "14    35.000000\n",
       "dtype: float64"
      ]
     },
     "execution_count": 4,
     "metadata": {},
     "output_type": "execute_result"
    }
   ],
   "source": [
    "cost1 = (medoids.UTS[2] - data.UTS)**2 + (medoids.TUGAS[2] - data.TUGAS)**2 + (medoids.UAS[2] - data.UAS)**2\n",
    "\n",
    "# SquareRoot\n",
    "cost1 = cost1**(1/2)\n",
    "cost1"
   ]
  },
  {
   "cell_type": "code",
   "execution_count": 5,
   "metadata": {},
   "outputs": [
    {
     "data": {
      "text/plain": [
       "0     12.569805\n",
       "1     24.899799\n",
       "2     32.015621\n",
       "3     63.725976\n",
       "4     48.052055\n",
       "5     29.748950\n",
       "6     10.770330\n",
       "7     36.728735\n",
       "8      0.000000\n",
       "9     64.101482\n",
       "10    66.475559\n",
       "11    44.654227\n",
       "12    11.789826\n",
       "13    58.830264\n",
       "14    66.708320\n",
       "dtype: float64"
      ]
     },
     "execution_count": 5,
     "metadata": {},
     "output_type": "execute_result"
    }
   ],
   "source": [
    "# Hitung jarak objek ke medoids sementara dengan Euqlidiance distance\n",
    "cost2 = (medoids.UTS[8] - data.UTS)**2 + (medoids.TUGAS[8] - data.TUGAS)**2 + (medoids.UAS[8] - data.UAS)**2\n",
    "\n",
    "# SquareRoot\n",
    "cost2 = cost2**(1/2)\n",
    "cost2"
   ]
  },
  {
   "cell_type": "code",
   "execution_count": 6,
   "metadata": {},
   "outputs": [
    {
     "data": {
      "text/plain": [
       "0     52.867760\n",
       "1     58.008620\n",
       "2     39.038443\n",
       "3     21.118712\n",
       "4     21.213203\n",
       "5     36.796739\n",
       "6     53.749419\n",
       "7     30.822070\n",
       "8     64.101482\n",
       "9      0.000000\n",
       "10    18.708287\n",
       "11    28.301943\n",
       "12    58.736701\n",
       "13    16.792856\n",
       "14    30.149627\n",
       "dtype: float64"
      ]
     },
     "execution_count": 6,
     "metadata": {},
     "output_type": "execute_result"
    }
   ],
   "source": [
    "# Hitung jarak objek ke medoids sementara dengan Euqlidiance distance\n",
    "cost3 = (medoids.UTS[9] - data.UTS)**2 + (medoids.TUGAS[9] - data.TUGAS)**2 + (medoids.UAS[9] - data.UAS)**2\n",
    "\n",
    "# SquareRoot\n",
    "cost3 = cost3**(1/2)\n",
    "cost3"
   ]
  },
  {
   "cell_type": "code",
   "execution_count": 7,
   "metadata": {},
   "outputs": [
    {
     "data": {
      "text/plain": [
       "[12.569805089976535,\n",
       " 24.899799195977465,\n",
       " 0.0,\n",
       " 21.118712081942874,\n",
       " 21.213203435596427,\n",
       " 12.24744871391589,\n",
       " 10.770329614269007,\n",
       " 8.602325267042627,\n",
       " 0.0,\n",
       " 0.0,\n",
       " 18.708286933869708,\n",
       " 13.74772708486752,\n",
       " 11.789826122551595,\n",
       " 16.792855623746664,\n",
       " 30.14962686336267]"
      ]
     },
     "execution_count": 7,
     "metadata": {},
     "output_type": "execute_result"
    }
   ],
   "source": [
    "# jarak terdekat objek ke medoids dan hitung total\n",
    "proximity = [min(x) for x in zip(cost1, cost2, cost3)]\n",
    "proximity"
   ]
  },
  {
   "cell_type": "code",
   "execution_count": 8,
   "metadata": {},
   "outputs": [
    {
     "data": {
      "text/plain": [
       "202.609946027119"
      ]
     },
     "execution_count": 8,
     "metadata": {},
     "output_type": "execute_result"
    }
   ],
   "source": [
    "# jumlah kedekatan / proximity\n",
    "sumProximity = sum(proximity)\n",
    "sumProximity"
   ]
  },
  {
   "cell_type": "code",
   "execution_count": 9,
   "metadata": {},
   "outputs": [
    {
     "name": "stdout",
     "output_type": "stream",
     "text": [
      "Roy: Cluster 1\n",
      "Sintia: Cluster 1\n",
      "Iqbal: Cluster 2\n",
      "Dilan: Cluster 3\n",
      "Ratna: Cluster 3\n",
      "Merry: Cluster 2\n",
      "Rudi: Cluster 1\n",
      "Hafiz: Cluster 2\n",
      "Gede: Cluster 1\n",
      "Christian: Cluster 3\n",
      "Justin: Cluster 3\n",
      "Jesika: Cluster 2\n",
      "Ayu: Cluster 1\n",
      "Siska: Cluster 3\n",
      "Reitama: Cluster 3\n"
     ]
    }
   ],
   "source": [
    "from sklearn.cluster import KMeans\n",
    "import numpy as np\n",
    "import csv\n",
    "\n",
    "# Membuka file csv dan membaca isinya\n",
    "with open('dataset no 1.csv', 'r') as file:\n",
    "    reader = csv.reader(file)\n",
    "    # Melewati baris header\n",
    "    next(reader)\n",
    "    # Menyimpan data dalam list\n",
    "    data = [row for row in reader]\n",
    "\n",
    "# Mengambil nilai UTS, TUGAS, dan UAS sebagai fitur\n",
    "X = np.array([[int(row[2]), int(row[3]), int(row[4])] for row in data if len(row) == 5])\n",
    "\n",
    "\n",
    "for i in range(len(data)):\n",
    "    if len(data[i]) == 5:\n",
    "        print(f\"{data[i][1]}: \", end=\"\")\n",
    "        if(cost2[i] == proximity[i]):\n",
    "            print(\"Cluster 1\")\n",
    "        elif(cost3[i] == proximity[i]):\n",
    "            print(\"Cluster 3\")\n",
    "        else:\n",
    "            print(\"Cluster 2\")\n"
   ]
  }
 ],
 "metadata": {
  "kernelspec": {
   "display_name": "Python 3 (ipykernel)",
   "language": "python",
   "name": "python3"
  },
  "language_info": {
   "codemirror_mode": {
    "name": "ipython",
    "version": 3
   },
   "file_extension": ".py",
   "mimetype": "text/x-python",
   "name": "python",
   "nbconvert_exporter": "python",
   "pygments_lexer": "ipython3",
   "version": "3.9.7"
  }
 },
 "nbformat": 4,
 "nbformat_minor": 2
}
